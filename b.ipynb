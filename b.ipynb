{
 "cells": [
  {
   "cell_type": "markdown",
   "metadata": {},
   "source": [
    "# Pallavi Yenigalla      ID- 2611733530"
   ]
  },
  {
   "cell_type": "markdown",
   "metadata": {},
   "source": [
    "# 1. Active Learning Using Support Vector Machines"
   ]
  },
  {
   "cell_type": "markdown",
   "metadata": {},
   "source": [
    "#### (a) Download the banknote authentication Data Set from: https://archive.ics.uci.edu/ml/datasets/banknote+authentication. Choose 472 data points randomly as the test set. This is a binary classification problem. "
   ]
  },
  {
   "cell_type": "code",
   "execution_count": 79,
   "metadata": {
    "collapsed": true
   },
   "outputs": [],
   "source": [
    "import pandas as pd\n",
    "import numpy as np\n",
    "import matplotlib.pyplot as plt\n",
    "%matplotlib inline"
   ]
  },
  {
   "cell_type": "markdown",
   "metadata": {},
   "source": [
    "#### Test Set"
   ]
  },
  {
   "cell_type": "code",
   "execution_count": 68,
   "metadata": {},
   "outputs": [
    {
     "name": "stdout",
     "output_type": "stream",
     "text": [
      "1372\n"
     ]
    }
   ],
   "source": [
    "head=[\"variance\",\"skewness\",\"curtosis\",\"entropy\",\"class\"]\n",
    "df=pd.read_csv(\"data_banknote_authentication.txt\",names=head)\n",
    "df.head()\n",
    "print(len(df))"
   ]
  },
  {
   "cell_type": "markdown",
   "metadata": {},
   "source": [
    "#### Train Set"
   ]
  },
  {
   "cell_type": "code",
   "execution_count": 69,
   "metadata": {},
   "outputs": [
    {
     "name": "stdout",
     "output_type": "stream",
     "text": [
      "472\n"
     ]
    }
   ],
   "source": [
    "df_test = df.sample(n=472)\n",
    "print(len(df_test))"
   ]
  },
  {
   "cell_type": "code",
   "execution_count": 41,
   "metadata": {
    "collapsed": true
   },
   "outputs": [],
   "source": [
    "#df_test.head()"
   ]
  },
  {
   "cell_type": "code",
   "execution_count": 70,
   "metadata": {},
   "outputs": [
    {
     "name": "stdout",
     "output_type": "stream",
     "text": [
      "900\n"
     ]
    }
   ],
   "source": [
    "df_train= df.loc[~df.index.isin(df_test.index)]\n",
    "df_train.head()\n",
    "print(len(df_train))"
   ]
  },
  {
   "cell_type": "markdown",
   "metadata": {},
   "source": [
    "#### (b) Repeat each of the following two procedures 50 times. You will have 50 errors for 90 SVMs per each procedure. i. Train a SVM with a pool of 10 randomly selected data points from the training set using linear kernel and L1 penalty. Select the penalty parameter using 10-fold cross validation.1 Repeat this process by adding 10 other randomly selected data points to the pool, until you use all the 900 points. Do NOT replace the samples back into the training set at each step. Calculate the test error for each SVM. You will have 90 SVMs that were trained using 10, 20, 30, ... , 900 data points and their 90 test errors. You have implemented passive learning."
   ]
  },
  {
   "cell_type": "code",
   "execution_count": 78,
   "metadata": {},
   "outputs": [],
   "source": [
    "from sklearn.model_selection import GridSearchCV\n",
    "from sklearn.svm import LinearSVC\n",
    "from sklearn.model_selection import KFold\n",
    "svc=LinearSVC(penalty='l1',dual=False)\n",
    "m=KFold(n_splits=10)\n",
    "parameters={'C':[1,10]}\n",
    "clf=GridSearchCV(svc,parameters,cv=m)\n",
    "mainErrors = np.zeros(90)\n",
    "for n in range(0,50):\n",
    "    temp_DF=pd.DataFrame()\n",
    "    lastArray=[] \n",
    "    newArray=df_train \n",
    "    errors=[]\n",
    "    for i in range(0,90):\n",
    "        tempArray=newArray.sample(n=10)\n",
    "        x=[temp_DF,tempArray]\n",
    "        temp_DF=pd.concat(x)\n",
    "        lastArray=newArray.loc[~newArray.index.isin(tempArray.index)]\n",
    "        clf.fit(temp_DF.loc[:,:'entropy'],temp_DF['class'])\n",
    "        accuracy_score=clf.score(df_test.loc[:,:'entropy'],df_test['class'])\n",
    "        err=1-accuracy_score\n",
    "        errors.append(err)\n",
    "        mainErrors[i]+=err\n",
    "        #print(len(tempDF))\n"
   ]
  },
  {
   "cell_type": "markdown",
   "metadata": {},
   "source": [
    "#### ii. Train a SVM with a pool of 10 randomly selected data points from the training set using linear kernel and L1 penalty. Select the parameters of the SVM with 10-fold cross validation. Choose the 10 closest data points in the training set to the margin of the SVM2 and add them to the pool. Do not replace the samples back into the training set. Train a new SVM using the pool.Repeat this process until all training data is used. You will have 90 SVMs that were trained using 10, 20, 30,..., 900 data points and their 90 test errors. You have implemented active learning."
   ]
  },
  {
   "cell_type": "code",
   "execution_count": 75,
   "metadata": {},
   "outputs": [],
   "source": [
    "newDF=[]\n",
    "errors=[]\n",
    "clf=LinearSVC(penalty='l1',dual=False)\n",
    "parameters={'C':[1,10]}\n",
    "m=KFold(n_splits=10)\n",
    "clf1=GridSearchCV(clf,parameters,cv=m)\n",
    "mainerrors=np.zeros(90)\n",
    "for p in range(0,50):\n",
    "    newDF=df_train\n",
    "    rdf=newDF.sample(n=10)\n",
    "    newDF=newDF.loc[~newDF.index.isin(rdf.index)]\n",
    "    \n",
    "    for l in range(0,90):\n",
    "        clf1.fit(rdf.loc[:,:'entropy'],rdf['class'])\n",
    "        acc=clf1.score(df_test.loc[:,:'entropy'],df_test['class'])\n",
    "        \n",
    "        e=1-acc\n",
    "        errors.append(e)\n",
    "        mainerrors[l]+=e\n",
    "        if l==89:\n",
    "            continue\n",
    "        y=clf1.decision_function(newDF.loc[:,:'entropy'])\n",
    "        y=abs(y)\n",
    "        x=y.argsort()[:10]\n",
    "        finalDF=newDF.iloc[x,:]\n",
    "        f=[rdf,finalDF]\n",
    "        rdf=pd.concat(f)\n",
    "        newDF=newDF.loc[~newDF.index.isin(finalDF.index)]\n",
    "        \n",
    "\n",
    "        \n"
   ]
  },
  {
   "cell_type": "markdown",
   "metadata": {},
   "source": [
    "#### (c) Average the test errors for the incrementally trained 90 SVMs in 1(b)i and1(b)ii. By doing so, you are performing a Monte Carlo simulation. Plot average test error versus number of training instances for both active and passive learners on the same figure and report your conclusions. "
   ]
  },
  {
   "cell_type": "markdown",
   "metadata": {},
   "source": [
    "#### Averaging test errors for active and passive trained SVMs"
   ]
  },
  {
   "cell_type": "code",
   "execution_count": 86,
   "metadata": {
    "collapsed": true
   },
   "outputs": [],
   "source": [
    "pl=[]\n",
    "pl[:] = [p/50 for p in mainErrors]\n",
    "al = []\n",
    "al[:] = [a/50 for a in mainerrors]"
   ]
  },
  {
   "cell_type": "markdown",
   "metadata": {},
   "source": [
    "#### Plot between average test errors vs number of training instances that include both active and passive learning."
   ]
  },
  {
   "cell_type": "code",
   "execution_count": 87,
   "metadata": {},
   "outputs": [
    {
     "data": {
      "image/png": "[encoded data removed]",
      "text/plain": [
       "<matplotlib.figure.Figure at 0x24c4c5c6f28>"
      ]
     },
     "metadata": {},
     "output_type": "display_data"
    }
   ],
   "source": [
    "t=np.arange(1,91,1)\n",
    "fig,ax=plt.subplots()\n",
    "ax.plot(t,pl,label='Passive Learning')\n",
    "ax.plot(t,al, label='Active Learning')\n",
    "legend=ax.legend()\n",
    "plt.show()"
   ]
  },
  {
   "cell_type": "code",
   "execution_count": null,
   "metadata": {
    "collapsed": true
   },
   "outputs": [],
   "source": []
  }
 ],
 "metadata": {
  "kernelspec": {
   "display_name": "Python 3",
   "language": "python",
   "name": "python3"
  },
  "language_info": {
   "codemirror_mode": {
    "name": "ipython",
    "version": 3
   },
   "file_extension": ".py",
   "mimetype": "text/x-python",
   "name": "python",
   "nbconvert_exporter": "python",
   "pygments_lexer": "ipython3",
   "version": "3.6.3"
  }
 },
 "nbformat": 4,
 "nbformat_minor": 2
}
